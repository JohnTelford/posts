{
 "cells": [
  {
   "cell_type": "markdown",
   "id": "c6ad7e92-d55d-4d89-b324-46acb09888d8",
   "metadata": {},
   "source": [
    "# Preface - Iterative Website Developent <a id='preface_id'></a>\n",
    "\n",
    "Time is money, so the saying goes. Software developing projects typically cost more then what was budgeted. Iterative Developent technology can speed up development and minimizes defects.\n",
    "\n",
    "Teams working together helps. Team members can safely work on their deliverables at the sametime. They share their work with stakeholdsrs by easily creating private websites. The stakeholders, including team members, provide feedback.\n",
    "\n",
    "Team members development environments and tools continuely check for errors. The primary programming language is Markdown using the VScode editor environment.\n",
    "\n",
    "\n",
    "- [Link to dev stack](iterative_dev_stack.ipynb#iterative_dev_stack)\n",
    "- [Link to Teams](Teams.ipynb)\n",
    "---\n",
    "\n",
    "\n",
    "!!! note\n",
    "    This is a **note**\n",
    "    \n"
   ]
  },
  {
   "cell_type": "markdown",
   "metadata": {},
   "source": []
  }
 ],
 "metadata": {
  "kernelspec": {
   "display_name": "mflix",
   "language": "python",
   "name": "mflix"
  },
  "language_info": {
   "name": "python",
   "version": "3.12.0"
  }
 },
 "nbformat": 4,
 "nbformat_minor": 5
}
