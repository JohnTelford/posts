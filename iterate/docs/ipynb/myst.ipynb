{
 "cells": [
  {
   "cell_type": "markdown",
   "metadata": {},
   "source": [
    "#Admonition types\n",
    "The following core admonition types are available:\n",
    "\n",
    "attention caution danger error hint important note\n",
    "seealso tip warning\n",
    "\n",
    "```\n",
    ":::{tip}\n",
    ":class: myclass1,myclass2\n",
    ":name: a-tip-reference\n",
    "Let's give readers a helpful hint!\n",
    ":::\n",
    "\n",
    "[Reference to my tip](#a-tip-reference)```"
   ]
  },
  {
   "cell_type": "markdown",
   "metadata": {},
   "source": []
  }
 ],
 "metadata": {
  "language_info": {
   "name": "python"
  }
 },
 "nbformat": 4,
 "nbformat_minor": 2
}
