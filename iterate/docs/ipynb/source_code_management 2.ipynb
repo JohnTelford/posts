{
 "cells": [
  {
   "cell_type": "markdown",
   "metadata": {},
   "source": [
    "# Version Control\n",
    "\n",
    "What is “version control”? Version control is a system that records changes to a file or set of files over time so that specific versions can be recalled later. During and after development answere to the questions \"who changed what, where, when, and why?\" can be answere for the lifetime of the project.\n",
    "\n",
    "<!-- ??? Warning \"Defects\"\n",
    "\tThe slightest configuration, programming or security defect issues during the project will require Remediating and increasing overall lifetime costs    -->\n",
    "\n",
    "\n",
    "\n",
    "[Caution](admonition.ipynb#a-caution-reference)\n"
   ]
  },
  {
   "cell_type": "markdown",
   "metadata": {},
   "source": []
  }
 ],
 "metadata": {
  "language_info": {
   "name": "python"
  }
 },
 "nbformat": 4,
 "nbformat_minor": 2
}
